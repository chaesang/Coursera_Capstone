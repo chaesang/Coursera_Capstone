{
  "nbformat": 4,
  "nbformat_minor": 0,
  "metadata": {
    "colab": {
      "name": "Capstone",
      "provenance": [],
      "collapsed_sections": [],
      "authorship_tag": "ABX9TyOWAs6It/vEc8IxIZKyvY/4",
      "include_colab_link": true
    },
    "kernelspec": {
      "name": "python3",
      "display_name": "Python 3"
    }
  },
  "cells": [
    {
      "cell_type": "markdown",
      "metadata": {
        "id": "view-in-github",
        "colab_type": "text"
      },
      "source": [
        "<a href=\"https://colab.research.google.com/github/chaesang/Coursera_Capstone/blob/master/Capstone.ipynb\" target=\"_parent\"><img src=\"https://colab.research.google.com/assets/colab-badge.svg\" alt=\"Open In Colab\"/></a>"
      ]
    },
    {
      "cell_type": "markdown",
      "metadata": {
        "id": "n1oI34IVUfaU",
        "colab_type": "text"
      },
      "source": [
        "### This is Notebook for Capstone Project. \n"
      ]
    },
    {
      "cell_type": "markdown",
      "metadata": {
        "id": "z1YSeqqgUQFQ",
        "colab_type": "text"
      },
      "source": [
        ""
      ]
    },
    {
      "cell_type": "code",
      "metadata": {
        "id": "IcHUkqX9CJ3Q",
        "colab_type": "code",
        "colab": {
          "base_uri": "https://localhost:8080/",
          "height": 34
        },
        "outputId": "c740dc6e-e7ed-44bb-e204-1df6ebc06f81"
      },
      "source": [
        "!pip install pandas\n",
        "\n",
        "import pandas as pd\n",
        "import numpy as np\n"
      ],
      "execution_count": 5,
      "outputs": [
        {
          "output_type": "stream",
          "text": [
            "Hello Capstone Project Course!\n"
          ],
          "name": "stdout"
        }
      ]
    },
    {
      "cell_type": "code",
      "metadata": {
        "id": "cT5YMoYGQs5a",
        "colab_type": "code",
        "colab": {}
      },
      "source": [
        "print('Hello Capstone Project Course!')"
      ],
      "execution_count": null,
      "outputs": []
    }
  ]
}