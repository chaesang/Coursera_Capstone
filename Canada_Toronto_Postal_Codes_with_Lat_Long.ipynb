{
  "nbformat": 4,
  "nbformat_minor": 0,
  "metadata": {
    "colab": {
      "name": "Canada Toronto Postal Codes with Lat Long.ipynb",
      "provenance": [],
      "collapsed_sections": [],
      "authorship_tag": "ABX9TyO7Al+CWVmeS7PfPRB01w9F",
      "include_colab_link": true
    },
    "kernelspec": {
      "name": "python3",
      "display_name": "Python 3"
    }
  },
  "cells": [
    {
      "cell_type": "markdown",
      "metadata": {
        "id": "view-in-github",
        "colab_type": "text"
      },
      "source": [
        "<a href=\"https://colab.research.google.com/github/chaesang/Coursera_Capstone/blob/master/Canada_Toronto_Postal_Codes_with_Lat_Long.ipynb\" target=\"_parent\"><img src=\"https://colab.research.google.com/assets/colab-badge.svg\" alt=\"Open In Colab\"/></a>"
      ]
    },
    {
      "cell_type": "markdown",
      "metadata": {
        "id": "l9nwc2M3Ynxl",
        "colab_type": "text"
      },
      "source": [
        "Read data from wikipedia page"
      ]
    },
    {
      "cell_type": "code",
      "metadata": {
        "id": "LCumGgc8RNNG",
        "colab_type": "code",
        "colab": {
          "base_uri": "https://localhost:8080/",
          "height": 34
        },
        "outputId": "53bed77f-8044-4792-a29f-1c2d283ba90b"
      },
      "source": [
        "import requests\n",
        "import lxml.html as lh\n",
        "import pandas as pd\n",
        "\n",
        "tables = pd.read_html(\"https://en.wikipedia.org/wiki/List_of_postal_codes_of_Canada:_M\")\n",
        "postal_df = tables[0]\n",
        "postal_df.shape"
      ],
      "execution_count": null,
      "outputs": [
        {
          "output_type": "execute_result",
          "data": {
            "text/plain": [
              "(180, 3)"
            ]
          },
          "metadata": {
            "tags": []
          },
          "execution_count": 1
        }
      ]
    },
    {
      "cell_type": "code",
      "metadata": {
        "id": "PooTnTH-VdPb",
        "colab_type": "code",
        "colab": {
          "base_uri": "https://localhost:8080/",
          "height": 204
        },
        "outputId": "df8b285c-1545-4b68-d8ae-6997850f21b5"
      },
      "source": [
        "postal_df.head()\n"
      ],
      "execution_count": null,
      "outputs": [
        {
          "output_type": "execute_result",
          "data": {
            "text/html": [
              "<div>\n",
              "<style scoped>\n",
              "    .dataframe tbody tr th:only-of-type {\n",
              "        vertical-align: middle;\n",
              "    }\n",
              "\n",
              "    .dataframe tbody tr th {\n",
              "        vertical-align: top;\n",
              "    }\n",
              "\n",
              "    .dataframe thead th {\n",
              "        text-align: right;\n",
              "    }\n",
              "</style>\n",
              "<table border=\"1\" class=\"dataframe\">\n",
              "  <thead>\n",
              "    <tr style=\"text-align: right;\">\n",
              "      <th></th>\n",
              "      <th>Postal Code</th>\n",
              "      <th>Borough</th>\n",
              "      <th>Neighborhood</th>\n",
              "    </tr>\n",
              "  </thead>\n",
              "  <tbody>\n",
              "    <tr>\n",
              "      <th>0</th>\n",
              "      <td>M1A</td>\n",
              "      <td>Not assigned</td>\n",
              "      <td>Not assigned</td>\n",
              "    </tr>\n",
              "    <tr>\n",
              "      <th>1</th>\n",
              "      <td>M2A</td>\n",
              "      <td>Not assigned</td>\n",
              "      <td>Not assigned</td>\n",
              "    </tr>\n",
              "    <tr>\n",
              "      <th>2</th>\n",
              "      <td>M3A</td>\n",
              "      <td>North York</td>\n",
              "      <td>Parkwoods</td>\n",
              "    </tr>\n",
              "    <tr>\n",
              "      <th>3</th>\n",
              "      <td>M4A</td>\n",
              "      <td>North York</td>\n",
              "      <td>Victoria Village</td>\n",
              "    </tr>\n",
              "    <tr>\n",
              "      <th>4</th>\n",
              "      <td>M5A</td>\n",
              "      <td>Downtown Toronto</td>\n",
              "      <td>Regent Park, Harbourfront</td>\n",
              "    </tr>\n",
              "  </tbody>\n",
              "</table>\n",
              "</div>"
            ],
            "text/plain": [
              "  Postal Code           Borough               Neighborhood\n",
              "0         M1A      Not assigned               Not assigned\n",
              "1         M2A      Not assigned               Not assigned\n",
              "2         M3A        North York                  Parkwoods\n",
              "3         M4A        North York           Victoria Village\n",
              "4         M5A  Downtown Toronto  Regent Park, Harbourfront"
            ]
          },
          "metadata": {
            "tags": []
          },
          "execution_count": 2
        }
      ]
    },
    {
      "cell_type": "markdown",
      "metadata": {
        "id": "oo36dn2zYIBb",
        "colab_type": "text"
      },
      "source": [
        "Remove the row with 'Borough' = 'Not assigned"
      ]
    },
    {
      "cell_type": "code",
      "metadata": {
        "id": "hxtwSAyAR02V",
        "colab_type": "code",
        "colab": {
          "base_uri": "https://localhost:8080/",
          "height": 34
        },
        "outputId": "aee887c0-de7c-4b3f-f043-743791d07d06"
      },
      "source": [
        "\n",
        "postal_df = postal_df[postal_df['Borough'] != 'Not assigned']\n",
        "postal_df.shape\n"
      ],
      "execution_count": null,
      "outputs": [
        {
          "output_type": "execute_result",
          "data": {
            "text/plain": [
              "(103, 3)"
            ]
          },
          "metadata": {
            "tags": []
          },
          "execution_count": 3
        }
      ]
    },
    {
      "cell_type": "markdown",
      "metadata": {
        "id": "tTunoO6GY0vs",
        "colab_type": "text"
      },
      "source": [
        "Check if 'Neighborhood' == 'Not assigned'"
      ]
    },
    {
      "cell_type": "code",
      "metadata": {
        "id": "zvw3Gu9tY3zV",
        "colab_type": "code",
        "colab": {
          "base_uri": "https://localhost:8080/",
          "height": 49
        },
        "outputId": "cefb3ac5-dfa7-4998-f092-062c82563267"
      },
      "source": [
        "postal_df[postal_df['Neighborhood'] == 'Not assigned']\n"
      ],
      "execution_count": null,
      "outputs": [
        {
          "output_type": "execute_result",
          "data": {
            "text/html": [
              "<div>\n",
              "<style scoped>\n",
              "    .dataframe tbody tr th:only-of-type {\n",
              "        vertical-align: middle;\n",
              "    }\n",
              "\n",
              "    .dataframe tbody tr th {\n",
              "        vertical-align: top;\n",
              "    }\n",
              "\n",
              "    .dataframe thead th {\n",
              "        text-align: right;\n",
              "    }\n",
              "</style>\n",
              "<table border=\"1\" class=\"dataframe\">\n",
              "  <thead>\n",
              "    <tr style=\"text-align: right;\">\n",
              "      <th></th>\n",
              "      <th>Postal Code</th>\n",
              "      <th>Borough</th>\n",
              "      <th>Neighborhood</th>\n",
              "    </tr>\n",
              "  </thead>\n",
              "  <tbody>\n",
              "  </tbody>\n",
              "</table>\n",
              "</div>"
            ],
            "text/plain": [
              "Empty DataFrame\n",
              "Columns: [Postal Code, Borough, Neighborhood]\n",
              "Index: []"
            ]
          },
          "metadata": {
            "tags": []
          },
          "execution_count": 4
        }
      ]
    },
    {
      "cell_type": "markdown",
      "metadata": {
        "id": "DgXyRuCNZv02",
        "colab_type": "text"
      },
      "source": [
        "*post_df* doesn't have the cell with 'Not assigned'."
      ]
    },
    {
      "cell_type": "code",
      "metadata": {
        "id": "RzA1f9KkaBkV",
        "colab_type": "code",
        "colab": {
          "base_uri": "https://localhost:8080/",
          "height": 419
        },
        "outputId": "70d581a5-80e5-48ca-b283-63d0469f2333"
      },
      "source": [
        "postal_df\n"
      ],
      "execution_count": null,
      "outputs": [
        {
          "output_type": "execute_result",
          "data": {
            "text/html": [
              "<div>\n",
              "<style scoped>\n",
              "    .dataframe tbody tr th:only-of-type {\n",
              "        vertical-align: middle;\n",
              "    }\n",
              "\n",
              "    .dataframe tbody tr th {\n",
              "        vertical-align: top;\n",
              "    }\n",
              "\n",
              "    .dataframe thead th {\n",
              "        text-align: right;\n",
              "    }\n",
              "</style>\n",
              "<table border=\"1\" class=\"dataframe\">\n",
              "  <thead>\n",
              "    <tr style=\"text-align: right;\">\n",
              "      <th></th>\n",
              "      <th>Postal Code</th>\n",
              "      <th>Borough</th>\n",
              "      <th>Neighborhood</th>\n",
              "    </tr>\n",
              "  </thead>\n",
              "  <tbody>\n",
              "    <tr>\n",
              "      <th>2</th>\n",
              "      <td>M3A</td>\n",
              "      <td>North York</td>\n",
              "      <td>Parkwoods</td>\n",
              "    </tr>\n",
              "    <tr>\n",
              "      <th>3</th>\n",
              "      <td>M4A</td>\n",
              "      <td>North York</td>\n",
              "      <td>Victoria Village</td>\n",
              "    </tr>\n",
              "    <tr>\n",
              "      <th>4</th>\n",
              "      <td>M5A</td>\n",
              "      <td>Downtown Toronto</td>\n",
              "      <td>Regent Park, Harbourfront</td>\n",
              "    </tr>\n",
              "    <tr>\n",
              "      <th>5</th>\n",
              "      <td>M6A</td>\n",
              "      <td>North York</td>\n",
              "      <td>Lawrence Manor, Lawrence Heights</td>\n",
              "    </tr>\n",
              "    <tr>\n",
              "      <th>6</th>\n",
              "      <td>M7A</td>\n",
              "      <td>Downtown Toronto</td>\n",
              "      <td>Queen's Park, Ontario Provincial Government</td>\n",
              "    </tr>\n",
              "    <tr>\n",
              "      <th>...</th>\n",
              "      <td>...</td>\n",
              "      <td>...</td>\n",
              "      <td>...</td>\n",
              "    </tr>\n",
              "    <tr>\n",
              "      <th>160</th>\n",
              "      <td>M8X</td>\n",
              "      <td>Etobicoke</td>\n",
              "      <td>The Kingsway, Montgomery Road, Old Mill North</td>\n",
              "    </tr>\n",
              "    <tr>\n",
              "      <th>165</th>\n",
              "      <td>M4Y</td>\n",
              "      <td>Downtown Toronto</td>\n",
              "      <td>Church and Wellesley</td>\n",
              "    </tr>\n",
              "    <tr>\n",
              "      <th>168</th>\n",
              "      <td>M7Y</td>\n",
              "      <td>East Toronto</td>\n",
              "      <td>Business reply mail Processing Centre, South C...</td>\n",
              "    </tr>\n",
              "    <tr>\n",
              "      <th>169</th>\n",
              "      <td>M8Y</td>\n",
              "      <td>Etobicoke</td>\n",
              "      <td>Old Mill South, King's Mill Park, Sunnylea, Hu...</td>\n",
              "    </tr>\n",
              "    <tr>\n",
              "      <th>178</th>\n",
              "      <td>M8Z</td>\n",
              "      <td>Etobicoke</td>\n",
              "      <td>Mimico NW, The Queensway West, South of Bloor,...</td>\n",
              "    </tr>\n",
              "  </tbody>\n",
              "</table>\n",
              "<p>103 rows × 3 columns</p>\n",
              "</div>"
            ],
            "text/plain": [
              "    Postal Code  ...                                       Neighborhood\n",
              "2           M3A  ...                                          Parkwoods\n",
              "3           M4A  ...                                   Victoria Village\n",
              "4           M5A  ...                          Regent Park, Harbourfront\n",
              "5           M6A  ...                   Lawrence Manor, Lawrence Heights\n",
              "6           M7A  ...        Queen's Park, Ontario Provincial Government\n",
              "..          ...  ...                                                ...\n",
              "160         M8X  ...      The Kingsway, Montgomery Road, Old Mill North\n",
              "165         M4Y  ...                               Church and Wellesley\n",
              "168         M7Y  ...  Business reply mail Processing Centre, South C...\n",
              "169         M8Y  ...  Old Mill South, King's Mill Park, Sunnylea, Hu...\n",
              "178         M8Z  ...  Mimico NW, The Queensway West, South of Bloor,...\n",
              "\n",
              "[103 rows x 3 columns]"
            ]
          },
          "metadata": {
            "tags": []
          },
          "execution_count": 5
        }
      ]
    },
    {
      "cell_type": "code",
      "metadata": {
        "id": "dUKZxeRM17_e",
        "colab_type": "code",
        "colab": {
          "base_uri": "https://localhost:8080/",
          "height": 802
        },
        "outputId": "7955eafa-485f-4df1-f959-f28d81523176"
      },
      "source": [
        "!wget http://cocl.us/Geospatial_data\n",
        "gd=pd.read_csv('Geospatial_data')\n",
        "\n",
        "gd.head()"
      ],
      "execution_count": null,
      "outputs": [
        {
          "output_type": "stream",
          "text": [
            "--2020-07-03 23:11:02--  http://cocl.us/Geospatial_data\n",
            "Resolving cocl.us (cocl.us)... 169.48.113.194, 158.85.108.86, 158.85.108.83\n",
            "Connecting to cocl.us (cocl.us)|169.48.113.194|:80... connected.\n",
            "HTTP request sent, awaiting response... 301 Moved Permanently\n",
            "Location: https://cocl.us/Geospatial_data [following]\n",
            "--2020-07-03 23:11:02--  https://cocl.us/Geospatial_data\n",
            "Connecting to cocl.us (cocl.us)|169.48.113.194|:443... connected.\n",
            "HTTP request sent, awaiting response... 301 Moved Permanently\n",
            "Location: https://ibm.box.com/shared/static/9afzr83pps4pwf2smjjcf1y5mvgb18rr.csv [following]\n",
            "--2020-07-03 23:11:03--  https://ibm.box.com/shared/static/9afzr83pps4pwf2smjjcf1y5mvgb18rr.csv\n",
            "Resolving ibm.box.com (ibm.box.com)... 107.152.26.197\n",
            "Connecting to ibm.box.com (ibm.box.com)|107.152.26.197|:443... connected.\n",
            "HTTP request sent, awaiting response... 301 Moved Permanently\n",
            "Location: /public/static/9afzr83pps4pwf2smjjcf1y5mvgb18rr.csv [following]\n",
            "--2020-07-03 23:11:03--  https://ibm.box.com/public/static/9afzr83pps4pwf2smjjcf1y5mvgb18rr.csv\n",
            "Reusing existing connection to ibm.box.com:443.\n",
            "HTTP request sent, awaiting response... 301 Moved Permanently\n",
            "Location: https://ibm.ent.box.com/public/static/9afzr83pps4pwf2smjjcf1y5mvgb18rr.csv [following]\n",
            "--2020-07-03 23:11:04--  https://ibm.ent.box.com/public/static/9afzr83pps4pwf2smjjcf1y5mvgb18rr.csv\n",
            "Resolving ibm.ent.box.com (ibm.ent.box.com)... 107.152.29.201\n",
            "Connecting to ibm.ent.box.com (ibm.ent.box.com)|107.152.29.201|:443... connected.\n",
            "HTTP request sent, awaiting response... 302 Found\n",
            "Location: https://public.boxcloud.com/d/1/b1!G5yZOdN6iaQjZpiRFuczfDhaEAyUwzsfP7NvQLRvaedDm1jq9T6CAzk1Uy0tPioI7YlyE-X_sHyNADfBEhPuDk3E4nlVNLVHOoY_cgmDsg3QZp3SPPxHmZGWus7meaX8oEntrz29FApVWJJCjJqJ7XABRvcc2bjqsPgHBGI-DsQOq4R2acRfaLvahuWZKD4dcKJn0juAdj9q4tE3NhcZUQd8vw_VshRNMCPEvTohD-_Fbm7HSQSPsaH6YgUm2I5eMLS4qRCTwVjSY5q6lpHY2iJXAQSDrV9waC0wrykexZ2ROgaPa1SElvtSrWEgS4WZj7ZDaYRrkPielelTYgsJj2rLS_iPmsdFErK3K8Hpgkrou7nil7Md_fzYxxy8evW_Cb2NP7oTdxAqy73q46n7aAOM9g885uzZoOWwnxC-BJhdjTK34a-TZQVSc1UyDeZp-LEvNj_8SSJ4APg4Apfck5P1YlwMBUx2ktrTXskVByOXzmMCLpvIv5OU95tNqdMC8YMS_J2eQ3OgAYfbjATcCKTzckt9nwsMeQx-6324N6SgRBGmZXMbEQf-Kcj3lnBBYSFslmWSRtykwUIcErRJdPeAQgF8FtEbjnaSjURsdYZC8KcKvPynHeF4CAFUbZNhCDvoi-_tACb8DWTWmOAhCT_tU3DQaooNZF3Oug_DwsTPJWioL-GLVCs-VrkvPyIZiBbWUrCe7f0kanTFBF2wbqIvh_nLCniwyvpk9f90AUcQRW4I2zhlsBViNrcmu2VRS67fff30ex1X3T6cvBw7yYzIH0ZrVuQ_CfkC65WQ87W70HKiiAxrcyzyEgvKDqrnWGDP3UejmvG9jzyC3vouA12HjX2F-ABjBnbtqBLjJN1uVrN3NxD9FYK_Tf0f-4aBBT9HbmKa7AEn4HtdBpZEFajfOAQG6hW0uqUF6zBbMLg_5JntmjLasmWG94DVaG9t6Wh2RtKQnT9-wfR4B_7EZOkGJwRFjYREkq60OYqeYmMmf2t2sDsduGgyKpaHvYztRGRv_cs2iEjlHC0zFdU9ffOWIxV2IdClIxgaKOBaz7F8psqBsD-VcOzOHeKrvZExhYgpLrlnrw14pfDaahmUSSCIQran5CePs4ez_kqMhhcZo6XjSb6HvKjIgDhU_9t0iTizUqsxCordVY-CMgl_ysC8K7cfwychRrNWzvqi1_dntlLk1j00VimbiiX6c6pti7-IamHEQ_7Kw0KQYRuzekUTVpZ7L4ZaOTNNNeLeUGAcu2hGyrQTRpz3CYyFtrng409JRN4z-6cN8lYsqlvHPg3qiK4AUML_wy_ldJC-GKgMTsiDnGMEpvvROamh0T96xff3V9UqD6QM6lkIHaMrwx0x16Sc3PSMvZqCZLEXMkmKX1mlqIr7GyAswYHZGuwYa4IUAjIVfakLXauR_dwsKm8eM2yON_p-zn4mGhuRjv8w/download [following]\n",
            "--2020-07-03 23:11:04--  https://public.boxcloud.com/d/1/b1!G5yZOdN6iaQjZpiRFuczfDhaEAyUwzsfP7NvQLRvaedDm1jq9T6CAzk1Uy0tPioI7YlyE-X_sHyNADfBEhPuDk3E4nlVNLVHOoY_cgmDsg3QZp3SPPxHmZGWus7meaX8oEntrz29FApVWJJCjJqJ7XABRvcc2bjqsPgHBGI-DsQOq4R2acRfaLvahuWZKD4dcKJn0juAdj9q4tE3NhcZUQd8vw_VshRNMCPEvTohD-_Fbm7HSQSPsaH6YgUm2I5eMLS4qRCTwVjSY5q6lpHY2iJXAQSDrV9waC0wrykexZ2ROgaPa1SElvtSrWEgS4WZj7ZDaYRrkPielelTYgsJj2rLS_iPmsdFErK3K8Hpgkrou7nil7Md_fzYxxy8evW_Cb2NP7oTdxAqy73q46n7aAOM9g885uzZoOWwnxC-BJhdjTK34a-TZQVSc1UyDeZp-LEvNj_8SSJ4APg4Apfck5P1YlwMBUx2ktrTXskVByOXzmMCLpvIv5OU95tNqdMC8YMS_J2eQ3OgAYfbjATcCKTzckt9nwsMeQx-6324N6SgRBGmZXMbEQf-Kcj3lnBBYSFslmWSRtykwUIcErRJdPeAQgF8FtEbjnaSjURsdYZC8KcKvPynHeF4CAFUbZNhCDvoi-_tACb8DWTWmOAhCT_tU3DQaooNZF3Oug_DwsTPJWioL-GLVCs-VrkvPyIZiBbWUrCe7f0kanTFBF2wbqIvh_nLCniwyvpk9f90AUcQRW4I2zhlsBViNrcmu2VRS67fff30ex1X3T6cvBw7yYzIH0ZrVuQ_CfkC65WQ87W70HKiiAxrcyzyEgvKDqrnWGDP3UejmvG9jzyC3vouA12HjX2F-ABjBnbtqBLjJN1uVrN3NxD9FYK_Tf0f-4aBBT9HbmKa7AEn4HtdBpZEFajfOAQG6hW0uqUF6zBbMLg_5JntmjLasmWG94DVaG9t6Wh2RtKQnT9-wfR4B_7EZOkGJwRFjYREkq60OYqeYmMmf2t2sDsduGgyKpaHvYztRGRv_cs2iEjlHC0zFdU9ffOWIxV2IdClIxgaKOBaz7F8psqBsD-VcOzOHeKrvZExhYgpLrlnrw14pfDaahmUSSCIQran5CePs4ez_kqMhhcZo6XjSb6HvKjIgDhU_9t0iTizUqsxCordVY-CMgl_ysC8K7cfwychRrNWzvqi1_dntlLk1j00VimbiiX6c6pti7-IamHEQ_7Kw0KQYRuzekUTVpZ7L4ZaOTNNNeLeUGAcu2hGyrQTRpz3CYyFtrng409JRN4z-6cN8lYsqlvHPg3qiK4AUML_wy_ldJC-GKgMTsiDnGMEpvvROamh0T96xff3V9UqD6QM6lkIHaMrwx0x16Sc3PSMvZqCZLEXMkmKX1mlqIr7GyAswYHZGuwYa4IUAjIVfakLXauR_dwsKm8eM2yON_p-zn4mGhuRjv8w/download\n",
            "Resolving public.boxcloud.com (public.boxcloud.com)... 107.152.29.200\n",
            "Connecting to public.boxcloud.com (public.boxcloud.com)|107.152.29.200|:443... connected.\n",
            "HTTP request sent, awaiting response... 200 OK\n",
            "Length: 2891 (2.8K) [text/csv]\n",
            "Saving to: ‘Geospatial_data.2’\n",
            "\n",
            "Geospatial_data.2   100%[===================>]   2.82K  --.-KB/s    in 0s      \n",
            "\n",
            "2020-07-03 23:11:05 (331 MB/s) - ‘Geospatial_data.2’ saved [2891/2891]\n",
            "\n"
          ],
          "name": "stdout"
        },
        {
          "output_type": "execute_result",
          "data": {
            "text/html": [
              "<div>\n",
              "<style scoped>\n",
              "    .dataframe tbody tr th:only-of-type {\n",
              "        vertical-align: middle;\n",
              "    }\n",
              "\n",
              "    .dataframe tbody tr th {\n",
              "        vertical-align: top;\n",
              "    }\n",
              "\n",
              "    .dataframe thead th {\n",
              "        text-align: right;\n",
              "    }\n",
              "</style>\n",
              "<table border=\"1\" class=\"dataframe\">\n",
              "  <thead>\n",
              "    <tr style=\"text-align: right;\">\n",
              "      <th></th>\n",
              "      <th>Postal Code</th>\n",
              "      <th>Latitude</th>\n",
              "      <th>Longitude</th>\n",
              "    </tr>\n",
              "  </thead>\n",
              "  <tbody>\n",
              "    <tr>\n",
              "      <th>0</th>\n",
              "      <td>M1B</td>\n",
              "      <td>43.806686</td>\n",
              "      <td>-79.194353</td>\n",
              "    </tr>\n",
              "    <tr>\n",
              "      <th>1</th>\n",
              "      <td>M1C</td>\n",
              "      <td>43.784535</td>\n",
              "      <td>-79.160497</td>\n",
              "    </tr>\n",
              "    <tr>\n",
              "      <th>2</th>\n",
              "      <td>M1E</td>\n",
              "      <td>43.763573</td>\n",
              "      <td>-79.188711</td>\n",
              "    </tr>\n",
              "    <tr>\n",
              "      <th>3</th>\n",
              "      <td>M1G</td>\n",
              "      <td>43.770992</td>\n",
              "      <td>-79.216917</td>\n",
              "    </tr>\n",
              "    <tr>\n",
              "      <th>4</th>\n",
              "      <td>M1H</td>\n",
              "      <td>43.773136</td>\n",
              "      <td>-79.239476</td>\n",
              "    </tr>\n",
              "  </tbody>\n",
              "</table>\n",
              "</div>"
            ],
            "text/plain": [
              "  Postal Code   Latitude  Longitude\n",
              "0         M1B  43.806686 -79.194353\n",
              "1         M1C  43.784535 -79.160497\n",
              "2         M1E  43.763573 -79.188711\n",
              "3         M1G  43.770992 -79.216917\n",
              "4         M1H  43.773136 -79.239476"
            ]
          },
          "metadata": {
            "tags": []
          },
          "execution_count": 6
        }
      ]
    },
    {
      "cell_type": "code",
      "metadata": {
        "id": "RFUrPDu92Sql",
        "colab_type": "code",
        "colab": {
          "base_uri": "https://localhost:8080/",
          "height": 419
        },
        "outputId": "923f8705-4610-4886-dde8-12bb2a0981ba"
      },
      "source": [
        "postal_df = postal_df.set_index('Postal Code').join(gd.set_index('Postal Code')).reset_index()\n",
        "postal_df"
      ],
      "execution_count": null,
      "outputs": [
        {
          "output_type": "execute_result",
          "data": {
            "text/html": [
              "<div>\n",
              "<style scoped>\n",
              "    .dataframe tbody tr th:only-of-type {\n",
              "        vertical-align: middle;\n",
              "    }\n",
              "\n",
              "    .dataframe tbody tr th {\n",
              "        vertical-align: top;\n",
              "    }\n",
              "\n",
              "    .dataframe thead th {\n",
              "        text-align: right;\n",
              "    }\n",
              "</style>\n",
              "<table border=\"1\" class=\"dataframe\">\n",
              "  <thead>\n",
              "    <tr style=\"text-align: right;\">\n",
              "      <th></th>\n",
              "      <th>Postal Code</th>\n",
              "      <th>Borough</th>\n",
              "      <th>Neighborhood</th>\n",
              "      <th>Latitude</th>\n",
              "      <th>Longitude</th>\n",
              "    </tr>\n",
              "  </thead>\n",
              "  <tbody>\n",
              "    <tr>\n",
              "      <th>0</th>\n",
              "      <td>M3A</td>\n",
              "      <td>North York</td>\n",
              "      <td>Parkwoods</td>\n",
              "      <td>43.753259</td>\n",
              "      <td>-79.329656</td>\n",
              "    </tr>\n",
              "    <tr>\n",
              "      <th>1</th>\n",
              "      <td>M4A</td>\n",
              "      <td>North York</td>\n",
              "      <td>Victoria Village</td>\n",
              "      <td>43.725882</td>\n",
              "      <td>-79.315572</td>\n",
              "    </tr>\n",
              "    <tr>\n",
              "      <th>2</th>\n",
              "      <td>M5A</td>\n",
              "      <td>Downtown Toronto</td>\n",
              "      <td>Regent Park, Harbourfront</td>\n",
              "      <td>43.654260</td>\n",
              "      <td>-79.360636</td>\n",
              "    </tr>\n",
              "    <tr>\n",
              "      <th>3</th>\n",
              "      <td>M6A</td>\n",
              "      <td>North York</td>\n",
              "      <td>Lawrence Manor, Lawrence Heights</td>\n",
              "      <td>43.718518</td>\n",
              "      <td>-79.464763</td>\n",
              "    </tr>\n",
              "    <tr>\n",
              "      <th>4</th>\n",
              "      <td>M7A</td>\n",
              "      <td>Downtown Toronto</td>\n",
              "      <td>Queen's Park, Ontario Provincial Government</td>\n",
              "      <td>43.662301</td>\n",
              "      <td>-79.389494</td>\n",
              "    </tr>\n",
              "    <tr>\n",
              "      <th>...</th>\n",
              "      <td>...</td>\n",
              "      <td>...</td>\n",
              "      <td>...</td>\n",
              "      <td>...</td>\n",
              "      <td>...</td>\n",
              "    </tr>\n",
              "    <tr>\n",
              "      <th>98</th>\n",
              "      <td>M8X</td>\n",
              "      <td>Etobicoke</td>\n",
              "      <td>The Kingsway, Montgomery Road, Old Mill North</td>\n",
              "      <td>43.653654</td>\n",
              "      <td>-79.506944</td>\n",
              "    </tr>\n",
              "    <tr>\n",
              "      <th>99</th>\n",
              "      <td>M4Y</td>\n",
              "      <td>Downtown Toronto</td>\n",
              "      <td>Church and Wellesley</td>\n",
              "      <td>43.665860</td>\n",
              "      <td>-79.383160</td>\n",
              "    </tr>\n",
              "    <tr>\n",
              "      <th>100</th>\n",
              "      <td>M7Y</td>\n",
              "      <td>East Toronto</td>\n",
              "      <td>Business reply mail Processing Centre, South C...</td>\n",
              "      <td>43.662744</td>\n",
              "      <td>-79.321558</td>\n",
              "    </tr>\n",
              "    <tr>\n",
              "      <th>101</th>\n",
              "      <td>M8Y</td>\n",
              "      <td>Etobicoke</td>\n",
              "      <td>Old Mill South, King's Mill Park, Sunnylea, Hu...</td>\n",
              "      <td>43.636258</td>\n",
              "      <td>-79.498509</td>\n",
              "    </tr>\n",
              "    <tr>\n",
              "      <th>102</th>\n",
              "      <td>M8Z</td>\n",
              "      <td>Etobicoke</td>\n",
              "      <td>Mimico NW, The Queensway West, South of Bloor,...</td>\n",
              "      <td>43.628841</td>\n",
              "      <td>-79.520999</td>\n",
              "    </tr>\n",
              "  </tbody>\n",
              "</table>\n",
              "<p>103 rows × 5 columns</p>\n",
              "</div>"
            ],
            "text/plain": [
              "    Postal Code           Borough  ...   Latitude  Longitude\n",
              "0           M3A        North York  ...  43.753259 -79.329656\n",
              "1           M4A        North York  ...  43.725882 -79.315572\n",
              "2           M5A  Downtown Toronto  ...  43.654260 -79.360636\n",
              "3           M6A        North York  ...  43.718518 -79.464763\n",
              "4           M7A  Downtown Toronto  ...  43.662301 -79.389494\n",
              "..          ...               ...  ...        ...        ...\n",
              "98          M8X         Etobicoke  ...  43.653654 -79.506944\n",
              "99          M4Y  Downtown Toronto  ...  43.665860 -79.383160\n",
              "100         M7Y      East Toronto  ...  43.662744 -79.321558\n",
              "101         M8Y         Etobicoke  ...  43.636258 -79.498509\n",
              "102         M8Z         Etobicoke  ...  43.628841 -79.520999\n",
              "\n",
              "[103 rows x 5 columns]"
            ]
          },
          "metadata": {
            "tags": []
          },
          "execution_count": 7
        }
      ]
    },
    {
      "cell_type": "code",
      "metadata": {
        "id": "qZEQw0kg8hS8",
        "colab_type": "code",
        "colab": {}
      },
      "source": [
        ""
      ],
      "execution_count": null,
      "outputs": []
    }
  ]
}